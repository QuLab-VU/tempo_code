{
 "cells": [
  {
   "cell_type": "markdown",
   "metadata": {},
   "source": [
    "# Generting OME-TIFFs with tifffile memmap"
   ]
  },
  {
   "cell_type": "code",
   "execution_count": 1,
   "metadata": {},
   "outputs": [],
   "source": [
    "import os\n",
    "import pandas as pd\n",
    "import numpy as np\n",
    "import argparse\n",
    "import time\n",
    "from datetime import timedelta\n",
    "import mahotas as mh\n",
    "from tifffile import imsave, TiffWriter, imwrite, memmap, imread"
   ]
  },
  {
   "cell_type": "code",
   "execution_count": 2,
   "metadata": {},
   "outputs": [],
   "source": [
    "FINFO = '/mnt/monica/quaranta2/Monica/HTS031_partial/HTS031_partial_imageFileInfo.csv'\n",
    "RED_CH = 'Cy3'\n",
    "GREEN_CH = 'FITC'\n",
    "IMG_DIR = '/data/DSA/HTS031_partial'\n",
    "SAVE_DIR = '/data/DSA/HTS031_partial_ome'"
   ]
  },
  {
   "cell_type": "code",
   "execution_count": 3,
   "metadata": {},
   "outputs": [],
   "source": [
    "def assemble_plate(img_list):\n",
    "    for i in range(0, len(img_list), 22):\n",
    "        # read in one row of images as np arrays\n",
    "        # Full plate\n",
    "        row_imgs = np.array([mh.imread(f) for f in img_list[i:i+22]],np.uint16)\n",
    "        # left side\n",
    "        # row_imgs = np.array([mh.imread(f) for f in img_list[i:i+11]],np.uint16)\n",
    "        # right side\n",
    "        # row_imgs = np.array([mh.imread(f) for f in img_list[i+11:i+22]],np.uint16)\n",
    "        \n",
    "        # concatentate the row of images\n",
    "        for j in range(len(row_imgs)-1):\n",
    "            if j == 0:\n",
    "                img1 = row_imgs[j].copy()\n",
    "                img2 = row_imgs[j+1].copy()\n",
    "                row = np.concatenate((img1, img2), axis=1)\n",
    "            else:\n",
    "                img2 = row_imgs[j+1].copy()\n",
    "                row = np.concatenate((row, img2), axis=1)\n",
    "        # stack the rows to form the full plate of images        \n",
    "        if i == 0:\n",
    "            plate = row.copy()\n",
    "        else:\n",
    "            plate = np.concatenate((plate, row), axis=0)\n",
    "        \n",
    "    return plate"
   ]
  },
  {
   "cell_type": "code",
   "execution_count": 4,
   "metadata": {},
   "outputs": [],
   "source": [
    "def get_filenames(df, img_dir, plate_id):\n",
    "    df = df.reset_index(drop=True)\n",
    "    df_sort = df.sort_values(by=['well', 'file_name'], ignore_index=True)\n",
    "    img_list = []\n",
    "    filenames = df_sort['file_name'].to_list()\n",
    "    \n",
    "    for f in filenames:\n",
    "        # TEMP FOR TESTING\n",
    "        # img_list.append(os.path.join(img_dir, f))\n",
    "        img_list.append(os.path.join(img_dir, 'Plate' + str(plate_id), f))\n",
    "        \n",
    "    return img_list"
   ]
  },
  {
   "cell_type": "code",
   "execution_count": 9,
   "metadata": {},
   "outputs": [],
   "source": [
    "def assemble_stack(finfo, red_ch, green_ch, img_dir, save_dir):\n",
    "    plates = pd.unique(finfo['plate_name'])\n",
    "    \n",
    "    for plate in plates:\n",
    "        print(\"Starting \", plate, \"assembly..\")\n",
    "        df = finfo[finfo['plate_name']==plate]\n",
    "        pids = pd.unique(df['plate_id'])\n",
    "        first = True\n",
    "        \n",
    "        fname = f'{SAVE_DIR}/{plate}.tif'\n",
    "        # full plate\n",
    "        shape = (13, 1, 2, 30240, 47520)\n",
    "        # half plate\n",
    "        # shape = (13, 1, 2, 30240, 23760)\n",
    "        dtype = 'uint16'\n",
    "        \n",
    "        # create empty OME-TIFF file\n",
    "        imwrite(fname, shape=shape, dtype=dtype, metadata={'axes': 'TZCYX'})\n",
    "        \n",
    "        # memory map numoy array to data in OME-TIFF file\n",
    "        tzcyx_stack = memmap(fname)\n",
    "        \n",
    "        i = 0\n",
    "        te = time.time()\n",
    "        for pid in pids:\n",
    "            df2 = df[df['plate_id']==pid]\n",
    "            ch1_imgs = get_filenames(df2[df2['channel']==red_ch], img_dir, pid)\n",
    "            ta = time.time()\n",
    "            ch1_img = assemble_plate(ch1_imgs)\n",
    "            # tb = time.time()\n",
    "            # print(\"Time to complete ch1: \", str(timedelta(seconds=tb-ta)))\n",
    "            ch2_imgs = get_filenames(df2[df2['channel']==green_ch], img_dir, pid)\n",
    "            # tc = time.time()\n",
    "            ch2_img = assemble_plate(ch2_imgs)\n",
    "            td = time.time()\n",
    "            # print(\"Time to complete ch2: \", str(timedelta(seconds=td-tc)))\n",
    "\n",
    "            tzcyx_stack[i, 0, 0] = ch1_img\n",
    "            tzcyx_stack[i, 0, 1] = ch2_img\n",
    "            tzcyx_stack.flush()\n",
    "            i = i+1\n",
    "        \n",
    "        th = time.time()\n",
    "        print(f\"Saved {plate}.tif in {save_dir}\")\n",
    "        print(\"Time to assemble plate OME tiff: \", str(timedelta(seconds=th-te)))"
   ]
  },
  {
   "cell_type": "code",
   "execution_count": 10,
   "metadata": {},
   "outputs": [
    {
     "name": "stdout",
     "output_type": "stream",
     "text": [
      "Starting  H1048-1 assembly..\n",
      "Saved H1048-1.tif in /data/DSA/HTS031_partial_ome\n",
      "Time to assemble plate OME tiff:  0:11:50.726772\n",
      "Starting  H841-1 assembly..\n",
      "Saved H841-1.tif in /data/DSA/HTS031_partial_ome\n",
      "Time to assemble plate OME tiff:  0:12:24.016497\n",
      "Time to complete all plates:  0:24:16.491737\n"
     ]
    }
   ],
   "source": [
    "t1 = time.time()\n",
    "file_info = pd.read_csv(FINFO, low_memory=False)\n",
    "assemble_stack(file_info, RED_CH, GREEN_CH, IMG_DIR, SAVE_DIR)\n",
    "t2 = time.time()\n",
    "print(\"Time to complete all plates: \", str(timedelta(seconds=t2-t1)))"
   ]
  },
  {
   "cell_type": "code",
   "execution_count": 20,
   "metadata": {},
   "outputs": [],
   "source": [
    "bigim = imread('/data/DSA/temp/H1048-1_right_memmap.ome.tif')"
   ]
  },
  {
   "cell_type": "code",
   "execution_count": 21,
   "metadata": {},
   "outputs": [
    {
     "data": {
      "text/plain": [
       "(13, 2, 30240, 23760)"
      ]
     },
     "execution_count": 21,
     "metadata": {},
     "output_type": "execute_result"
    }
   ],
   "source": [
    "bigim.shape"
   ]
  },
  {
   "cell_type": "code",
   "execution_count": 14,
   "metadata": {},
   "outputs": [
    {
     "name": "stdout",
     "output_type": "stream",
     "text": [
      "Time to create object:  0:00:00.016400\n"
     ]
    }
   ],
   "source": [
    "# testing aics image read\n",
    "from aicsimageio import AICSImage\n",
    "start = time.time()\n",
    "im =  AICSImage('/data/DSA/temp/H1048-1_right_memmap.ome.tif')\n",
    "end = time.time()\n",
    "print(\"Time to create object: \", str(timedelta(seconds=end-start)))"
   ]
  },
  {
   "cell_type": "code",
   "execution_count": 15,
   "metadata": {},
   "outputs": [
    {
     "name": "stdout",
     "output_type": "stream",
     "text": [
      "<Dimensions [T: 13, C: 2, Z: 1, Y: 30240, X: 23760]>\n",
      "TCZYX\n"
     ]
    }
   ],
   "source": [
    "print(im.dims)  # returns a Dimensions object\n",
    "print(im.dims.order)  # returns string \"TCZYX\""
   ]
  },
  {
   "cell_type": "code",
   "execution_count": 16,
   "metadata": {},
   "outputs": [
    {
     "name": "stdout",
     "output_type": "stream",
     "text": [
      "Time to read image data:  0:04:46.961492\n"
     ]
    }
   ],
   "source": [
    "# Try to show only 1 channel at timepoint 2 (index1)\n",
    "start = time.time()\n",
    "time1 = im.get_image_data(\"CZYX\", T=1)\n",
    "end = time.time()\n",
    "print(\"Time to read image data: \", str(timedelta(seconds=end-start)))"
   ]
  },
  {
   "cell_type": "code",
   "execution_count": 20,
   "metadata": {},
   "outputs": [
    {
     "name": "stdout",
     "output_type": "stream",
     "text": [
      "Time to display image data:  0:00:18.504678\n"
     ]
    },
    {
     "data": {
      "image/png": "[encoded data removed]",
      "text/plain": [
       "<Figure size 432x288 with 1 Axes>"
      ]
     },
     "metadata": {
      "needs_background": "light"
     },
     "output_type": "display_data"
    }
   ],
   "source": [
    "import matplotlib.pyplot as plt\n",
    "\n",
    "start = time.time()\n",
    "plt.imshow(time1[0][0], cmap=\"gray\")\n",
    "end = time.time()\n",
    "print(\"Time to display image data ~ \", str(timedelta(seconds=end-start)))"
   ]
  },
  {
   "cell_type": "code",
   "execution_count": null,
   "metadata": {},
   "outputs": [],
   "source": []
  }
 ],
 "metadata": {
  "kernelspec": {
   "display_name": "improc",
   "language": "python",
   "name": "improc"
  },
  "language_info": {
   "codemirror_mode": {
    "name": "ipython",
    "version": 3
   },
   "file_extension": ".py",
   "mimetype": "text/x-python",
   "name": "python",
   "nbconvert_exporter": "python",
   "pygments_lexer": "ipython3",
   "version": "3.7.1"
  }
 },
 "nbformat": 4,
 "nbformat_minor": 4
}
