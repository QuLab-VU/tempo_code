{
 "cells": [
  {
   "cell_type": "markdown",
   "metadata": {},
   "source": [
    "# Assemble MX Image Stack\n",
    "* Assembling the time series of images, including both channels (red=nuclei and green=dead cell marker) for one plate/well\n",
    "* Produces a set of images to generate an mp4 using ffmpeg\n",
    "* Using only z-position=0"
   ]
  },
  {
   "cell_type": "code",
   "execution_count": 70,
   "metadata": {},
   "outputs": [],
   "source": [
    "# Plate format: V3-21T-D4_E06 and V3-21T-D5_J12 (plate-name_well)\n",
    "TOPDIR = '/mnt/monica/quaranta2/VDIPRR/VLW001/VLW_V23b/images'\n",
    "FINFO = '/mnt/monica/quaranta2/VDIPRR/VLW001/VLW_V23b/VLW_V23bimageFileInfo.csv'\n",
    "PNAME = 'V3-21T-D5'\n",
    "WELL = 'J12'\n",
    "SAVEDIR = '/home/monica/img_stack/im_stack2'\n",
    "OWRITE = 'False'\n",
    "RED_CH = 'Texas Red'\n",
    "GR_CH = 'FITC'"
   ]
  },
  {
   "cell_type": "code",
   "execution_count": 71,
   "metadata": {},
   "outputs": [
    {
     "name": "stdout",
     "output_type": "stream",
     "text": [
      "File saved: /home/monica/img_stack/im_stack2/red_stack.tif\n",
      "File saved: /home/monica/img_stack/im_stack2/green_stack.tif\n"
     ]
    }
   ],
   "source": [
    "import pandas as pd\n",
    "import numpy as np\n",
    "import mahotas as mh\n",
    "from tifffile import imsave\n",
    "import os\n",
    "import re\n",
    "import sys\n",
    "\n",
    "\n",
    "# For the VLW23b fileinfo format\n",
    "def getStackFilenames(root_dir, finfo, plate_name, well, red_channel='Cy3', green_channel='FITC'):\n",
    "    pname = pd.Series([plate_name in x for x in finfo['plate_name']])\n",
    "    redCh = finfo['channel'] == red_channel\n",
    "    grCh = finfo['channel'] == green_channel\n",
    "    well = finfo['well'] == well\n",
    "    \n",
    "    redInfo = finfo[pname & redCh & well].copy()\n",
    "    redInfo = redInfo[redInfo['z_pos'] == 0]\n",
    "    grInfo = finfo[pname & grCh & well].copy()\n",
    "    grInfo = grInfo[grInfo['z_pos'] == 0]\n",
    "    redPlateDir = ['Plate'+ str(p) for p in redInfo['plate_id']]\n",
    "    grPlateDir = ['Plate'+ str(p) for p in grInfo['plate_id']]\n",
    "    redFname = redInfo['file_name']\n",
    "    grFname = grInfo['file_name']\n",
    "    \n",
    "    if(len(redPlateDir)==len(redFname)) and (len(grPlateDir)==len(grFname)):\n",
    "        redPath = [os.path.join(root_dir, redPlateDir[i], redFname.array[i]) for i in range(len(redPlateDir))]\n",
    "        grPath = [os.path.join(root_dir, grPlateDir[i], grFname.array[i]) for i in range(len(grPlateDir))]\n",
    "        \n",
    "        out = pd.DataFrame({plate_name + '_red': redPath,\n",
    "                            plate_name + '_green': grPath})\n",
    "        return(out)\n",
    "    else:\n",
    "        raise RuntimeError('Error occurred during stack filename creation.')\n",
    "\n",
    "# Modified for the VLW23a fileinfo format; already has full image paths\n",
    "def modifiedStackFilenames(finfo, plate_name, well, red_channel='nuc', green_channel='ch2'):\n",
    "    pname = pd.Series([plate_name in x for x in finfo['plate_name']])\n",
    "    redCh = finfo['channel'] == red_channel\n",
    "    grCh = finfo['channel'] == green_channel\n",
    "    well = finfo['well'] == well\n",
    "    \n",
    "    redInfo = finfo[plate_name & redCh & well].copy()\n",
    "    grInfo = finfo[pname & grCh & well].copy()\n",
    "    redPath = redInfo['file_name']\n",
    "    grPath = grInfo['file_name']\n",
    "    \n",
    "    out = pd.DataFrame({plate_name + '_red': redPath,\n",
    "                        plate_name + '_green': grPath})\n",
    "    return(out)\n",
    "\n",
    "    \n",
    "if os.path.isfile(FINFO):\n",
    "    file_info = pd.read_csv(FINFO, low_memory=False)\n",
    "else:\n",
    "    raise RuntimeError(f'Could not find file info file in {FINFO}')\n",
    "    \n",
    "# Column names of files saved by R have periods in them; replace with underscores\n",
    "file_info.columns = [s.replace('.','_') for s in file_info.columns]\n",
    "\n",
    "# The standard file info format\n",
    "file_paths = getStackFilenames(TOPDIR, file_info, PNAME, WELL, RED_CH, GR_CH)\n",
    "\n",
    "# The VLWa file info format\n",
    "# file_paths = modifiedStackFilenames(file_info, PNAME, WELL)\n",
    "\n",
    "# Check whether files exist; If not, may have been converted to png format\n",
    "# Check red channel images\n",
    "if not np.all([os.path.isfile(x) for x in file_paths[PNAME + '_red'].to_list()]):\n",
    "    tempfn = os.path.basename(file_paths[PNAME + '_red'].to_list()[0])\n",
    "    print(f'Could not find files (e.g. {tempfn}); Looking for png files instead')\n",
    "    # try to replace file type with png\n",
    "    file_paths[PNAME + '_red'] = [re.sub('tif$','png', fp) for fp in file_paths[PNAME + '_red'].to_list()]\n",
    "    if not np.all([os.path.isfile(x) for x in file_paths[PNAME].to_list()]):\n",
    "        tempfn = os.path.basename(file_paths[PNAME + '_red'].to_list()[0])\n",
    "        raise RuntimeError(f'Could not find files, e.g. {tempfn}')\n",
    "\n",
    "# Check green channel images\n",
    "if not np.all([os.path.isfile(x) for x in file_paths[PNAME + '_green'].to_list()]):\n",
    "    tempfn = os.path.basename(file_paths[PNAME + '_green'].to_list()[0])\n",
    "    print(f'Could not find files (e.g. {tempfn}); Looking for png files instead')\n",
    "    # try to replace file type with png\n",
    "    file_paths[PNAME + '_green'] = [re.sub('tif$','png', fp) for fp in file_paths[PNAME + '_green'].to_list()]\n",
    "    if not np.all([os.path.isfile(x) for x in file_paths[PNAME].to_list()]):\n",
    "        tempfn = os.path.basename(file_paths[PNAME + '_green'].to_list()[0])\n",
    "        raise RuntimeError(f'Could not find files, e.g. {tempfn}')\n",
    "\n",
    "im_stack = np.array([mh.imread(f) for f in file_paths[PNAME + '_red']],np.uint16)\n",
    "gr_stack = np.array([mh.imread(f) for f in file_paths[PNAME + '_green']], np.uint16)\n",
    "\n",
    "# Output files\n",
    "out_f1 = os.path.join(SAVEDIR, 'red_stack.tif')\n",
    "out_f2 = os.path.join(SAVEDIR, 'green_stack.tif')\n",
    "\n",
    "if OWRITE == 'False':\n",
    "    i = 0\n",
    "    j = 0\n",
    "    while os.path.isfile(out_f1):\n",
    "        i += 1\n",
    "        out_base = os.path.dirname(out_f1)\n",
    "        fn = os.path.basename(out_f1).split('.')[0] + '_' + str(i) + '.' + os.path.basename(out_f1).split('.')[1]\n",
    "        out_f1 = os.path.join(out_base, fn)\n",
    "    while os.path.isfile(out_f2):\n",
    "        j += 1\n",
    "        out_base = os.path.dirname(out_f2)\n",
    "        fn2 = os.path.basename(out_f2).split('.')[0] + '_' + str(j) + '.' + os.path.basename(out_f2).split('.')[1]\n",
    "        out_f2 = os.path.join(out_base, fn2)   \n",
    "\n",
    "imsave(out_f1, im_stack)\n",
    "imsave(out_f2, gr_stack)\n",
    "\n",
    "print(f'File saved: {out_f1}')\n",
    "print(f'File saved: {out_f2}')"
   ]
  },
  {
   "cell_type": "markdown",
   "metadata": {},
   "source": [
    "### Rescaling the channels"
   ]
  },
  {
   "cell_type": "code",
   "execution_count": 72,
   "metadata": {},
   "outputs": [],
   "source": [
    "from skimage.exposure import rescale_intensity\n",
    "from numpy import percentile\n",
    "\n",
    "\n",
    "def rescaleImg(img, pct=[2,98], lh=[0,0]):\n",
    "    if lh == [0,0]:\n",
    "        plow, phi = percentile(img, (pct[0], pct[1]))\n",
    "    elif len(lh) == 2 and lh != [0,0]:\n",
    "        plow = lh[0]\n",
    "        phi = lh[1]\n",
    "    else:\n",
    "        print('ERROR: rescaleImg arg <lh> requires a tuple of len 2')\n",
    "        return(img)\n",
    "    img_rescale = rescale_intensity(img, in_range=(plow, phi))\n",
    "    return img_rescale"
   ]
  },
  {
   "cell_type": "code",
   "execution_count": 73,
   "metadata": {},
   "outputs": [
    {
     "name": "stdout",
     "output_type": "stream",
     "text": [
      "(6, 2160, 2160)\n",
      "(6, 2160, 2160)\n"
     ]
    }
   ],
   "source": [
    "scaled_red = np.copy(im_stack)\n",
    "for i in range(len(im_stack)):\n",
    "    scaled_red[i] = rescaleImg(im_stack[i])\n",
    "\n",
    "print(im_stack.shape)\n",
    "print(scaled_red.shape)"
   ]
  },
  {
   "cell_type": "code",
   "execution_count": 74,
   "metadata": {},
   "outputs": [],
   "source": [
    "imsave(f'{SAVEDIR}/scaled_red.tif', scaled_red)"
   ]
  },
  {
   "cell_type": "code",
   "execution_count": 75,
   "metadata": {},
   "outputs": [
    {
     "name": "stdout",
     "output_type": "stream",
     "text": [
      "(6, 2160, 2160)\n",
      "(6, 2160, 2160)\n"
     ]
    }
   ],
   "source": [
    "scaled_gr = np.copy(gr_stack)\n",
    "for i in range(len(gr_stack)):\n",
    "    scaled_gr[i] = rescale_intensity(gr_stack[i],in_range=(1400, 5000))\n",
    "    \n",
    "print(gr_stack.shape)\n",
    "print(scaled_gr.shape)"
   ]
  },
  {
   "cell_type": "code",
   "execution_count": 76,
   "metadata": {},
   "outputs": [],
   "source": [
    "imsave(f'{SAVEDIR}/scaled_gr.tif', scaled_gr)"
   ]
  },
  {
   "cell_type": "markdown",
   "metadata": {},
   "source": [
    "### Generate H.264 encoded mp4 from image stacks\n",
    "* Concatenate images so red channel is on the left and green channel is on the right\n",
    "* Save the concatenated images in a new directory so they can be easily read in by ffmpeg"
   ]
  },
  {
   "cell_type": "markdown",
   "metadata": {},
   "source": [
    "Save just concatenated images; No border or text added"
   ]
  },
  {
   "cell_type": "code",
   "execution_count": 68,
   "metadata": {},
   "outputs": [],
   "source": [
    "# Create ffmpeg_imgs directory in savedir\n",
    "if not os.path.exists(f'{SAVEDIR}/ffmpeg_imgs'):\n",
    "    os.makedirs(f'{SAVEDIR}/ffmpeg_imgs')\n",
    "\n",
    "for i in range(len(scaled_red)):\n",
    "    red = scaled_red[i].copy()\n",
    "    gr = scaled_gr[i].copy()\n",
    "    new = np.concatenate((red, gr), axis=1)\n",
    "    imsave(f'{SAVEDIR}/ffmpeg_imgs/image{i}.tif', new)"
   ]
  },
  {
   "cell_type": "markdown",
   "metadata": {},
   "source": [
    "Save images with a black border and text labelling the red and green channels"
   ]
  },
  {
   "cell_type": "code",
   "execution_count": 77,
   "metadata": {},
   "outputs": [],
   "source": [
    "import cv2 \n",
    "\n",
    "\n",
    "font = cv2.FONT_HERSHEY_DUPLEX\n",
    "\n",
    "for i in range(len(scaled_red)):\n",
    "    red = scaled_red[i].copy()\n",
    "    gr = scaled_gr[i].copy()\n",
    "    new = np.concatenate((red, gr), axis=1)\n",
    "    border = np.pad(new, pad_width=50, mode='constant', constant_values=0)\n",
    "    imsave(f'{SAVEDIR}/ffmpeg_imgs/image{i}.tif', border)\n",
    "    im = cv2.imread(f'{SAVEDIR}/ffmpeg_imgs/image{i}.tif')\n",
    "    cv2.putText(im, 'nuclei', (50,2240), font, 1, (0, 0, 255), 2)\n",
    "    cv2.putText(im, 'dead', (2225,2240), font, 1, (0, 255, 0), 2)\n",
    "    cv2.imwrite(f'{SAVEDIR}/ffmpeg_imgs/image{i}.tif', im)"
   ]
  },
  {
   "cell_type": "markdown",
   "metadata": {},
   "source": [
    "Then run this command in ffmpeg_imgs directory:  \n",
    "``` ffmpeg -r 2 -f image2 -s 2160x4320 -i image%d.tif -vcodec libx264 -crf 25  -pix_fmt yuv420p output.mp4 ```  "
   ]
  }
 ],
 "metadata": {
  "kernelspec": {
   "display_name": "improc",
   "language": "python",
   "name": "improc"
  },
  "language_info": {
   "codemirror_mode": {
    "name": "ipython",
    "version": 3
   },
   "file_extension": ".py",
   "mimetype": "text/x-python",
   "name": "python",
   "nbconvert_exporter": "python",
   "pygments_lexer": "ipython3",
   "version": "3.7.1"
  }
 },
 "nbformat": 4,
 "nbformat_minor": 4
}
