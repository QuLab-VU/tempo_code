{
 "cells": [
  {
   "cell_type": "markdown",
   "metadata": {},
   "source": [
    "# Elab API Tutorial\n",
    "\n",
    "Full API and documentation can be found [here](https://us.elabjournal.com/docs/api/index)."
   ]
  },
  {
   "cell_type": "code",
   "execution_count": 1,
   "metadata": {},
   "outputs": [],
   "source": [
    "import os\n",
    "import requests\n",
    "import json\n",
    "import urllib3\n",
    "import string"
   ]
  },
  {
   "cell_type": "markdown",
   "metadata": {},
   "source": [
    "## Authentication\n",
    "\n",
    "Your eLab user account needs to be authenticated in order to generate an API token. Your eLab credentials can be put into a config file to maintain data security. "
   ]
  },
  {
   "cell_type": "code",
   "execution_count": 2,
   "metadata": {},
   "outputs": [],
   "source": [
    "from config import config\n",
    "\n",
    "# set request header\n",
    "header = {\n",
    "    \"Host\": \"us.elabjournal.com\",\n",
    "    \"Origin\": \"https://us.elabjournal.com\",\n",
    "    \"Content-Type\": \"application/json; charset=utf-8\",\n",
    "    \"Accept\": \"application/json\"\n",
    "}"
   ]
  },
  {
   "cell_type": "markdown",
   "metadata": {},
   "source": [
    "**Send Request**"
   ]
  },
  {
   "cell_type": "code",
   "execution_count": 4,
   "metadata": {},
   "outputs": [],
   "source": [
    "auth_url = 'https://us.elabjournal.com/api/v1/auth/user'\n",
    "\n",
    "auth_response = requests.post(auth_url, headers=header, data=json.dumps(config))\n",
    "\n",
    "json_response = auth_response.json()\n",
    "api_token = json_response['token']"
   ]
  },
  {
   "cell_type": "markdown",
   "metadata": {},
   "source": [
    "**Set API Token in Header**"
   ]
  },
  {
   "cell_type": "code",
   "execution_count": 5,
   "metadata": {},
   "outputs": [],
   "source": [
    "header['Authorization'] = api_token"
   ]
  },
  {
   "cell_type": "markdown",
   "metadata": {},
   "source": [
    "## List Storage Locations\n",
    "\n",
    "Storage locations and their compartments are uniquely identified by their `storageLayerID`. This response returns a list of dictionaries containing the id, name, and stoarge compartment details. "
   ]
  },
  {
   "cell_type": "code",
   "execution_count": 8,
   "metadata": {},
   "outputs": [],
   "source": [
    "storage_url = 'https://us.elabjournal.com/api/v1/storageLayers'\n",
    "\n",
    "get_storage = requests.get(storage_url, headers=header)\n",
    "temp = get_storage.json()\n",
    "storage_data = temp['data']"
   ]
  },
  {
   "cell_type": "markdown",
   "metadata": {},
   "source": [
    "## List Details of Specific Storage Location\n",
    "In this example a 10x10 box would return the details about the row/column orientation, the box name, and the parent location. "
   ]
  },
  {
   "cell_type": "code",
   "execution_count": 13,
   "metadata": {},
   "outputs": [
    {
     "name": "stdout",
     "output_type": "stream",
     "text": [
      "{'storageLayerID': 1244270, 'userID': 36136, 'created': '2022-07-21T16:01:50Z', 'storageID': 58645, 'barcode': '008000001244270', 'isGrid': True, 'parentStorageLayerID': 1079290, 'position': 0, 'transposed': False, 'dimension': {'rows': {'numbering': 'NUMERIC', 'count': 10}, 'columns': {'numbering': 'ALPHA', 'count': 10}}, 'storageLayerDefinitionID': 188660, 'name': 'Box J', 'icon': 'samplebox', 'maxSize': 0}\n"
     ]
    }
   ],
   "source": [
    "storageLayerID = 1244270\n",
    "layer_url = f'https://us.elabjournal.com/api/v1/storageLayers/{storageLayerID}'\n",
    "\n",
    "get_layer = requests.get(layer_url, headers=header)\n",
    "layer_data = get_layer.json()\n",
    "print(layer_data)"
   ]
  },
  {
   "cell_type": "markdown",
   "metadata": {},
   "source": [
    "## List Samples in a Box"
   ]
  },
  {
   "cell_type": "code",
   "execution_count": null,
   "metadata": {},
   "outputs": [],
   "source": [
    "# ID of the box you want to look at\n",
    "storageLayerID = 1244270\n",
    "box_samples = f'https://us.elabjournal.com/api/v1/storageLayers/{storageLayerID}/samples'\n",
    "get_samples = requests.get(box_samples, headers=header)\n",
    "temp = get_samples.json()\n",
    "box_data = temp['data']"
   ]
  },
  {
   "cell_type": "markdown",
   "metadata": {},
   "source": [
    "## Move Samples to a New Box"
   ]
  },
  {
   "cell_type": "code",
   "execution_count": null,
   "metadata": {},
   "outputs": [],
   "source": [
    "# get data in box\n",
    "storageLayerID = 799489\n",
    "box_samples = f'https://us.elabjournal.com/api/v1/storageLayers/{storageLayerID}/samples'\n",
    "get = requests.get(box_samples, headers=header)\n",
    "temp = get.json()\n",
    "box_data = temp['data']\n",
    "\n",
    "# move the data, sample by sample, to the new box\n",
    "new_boxID = 799762\n",
    "for i in range(len(box_data)):\n",
    "    sample = box_data[i]\n",
    "    sampleID = sample[\"sampleID\"]\n",
    "    # set the integer position in the box\n",
    "    payload = {\n",
    "        \"position\": sample[\"position\"]\n",
    "    }\n",
    "\n",
    "    move_sample = f'https://us.elabjournal.com/api/v1/samples/{sampleID}/moveToLayer/{new_boxID}'\n",
    "    post_move = requests.post(move_sample, headers=header, json=payload)"
   ]
  },
  {
   "cell_type": "code",
   "execution_count": null,
   "metadata": {},
   "outputs": [],
   "source": []
  }
 ],
 "metadata": {
  "kernelspec": {
   "display_name": "pySheets",
   "language": "python",
   "name": "pysheets"
  },
  "language_info": {
   "codemirror_mode": {
    "name": "ipython",
    "version": 3
   },
   "file_extension": ".py",
   "mimetype": "text/x-python",
   "name": "python",
   "nbconvert_exporter": "python",
   "pygments_lexer": "ipython3",
   "version": "3.7.11"
  }
 },
 "nbformat": 4,
 "nbformat_minor": 4
}
