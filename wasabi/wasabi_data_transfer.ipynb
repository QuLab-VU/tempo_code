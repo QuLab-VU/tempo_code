{
 "cells": [
  {
   "cell_type": "markdown",
   "metadata": {},
   "source": [
    "# Wasabi - Data Upload Using Boto3"
   ]
  },
  {
   "cell_type": "code",
   "execution_count": 1,
   "metadata": {},
   "outputs": [],
   "source": [
    "import os\n",
    "import time\n",
    "import boto3\n",
    "import string\n",
    "import os.path as op\n",
    "from datetime import timedelta\n",
    "from boto3.s3.transfer import TransferConfig\n",
    "from config import config"
   ]
  },
  {
   "cell_type": "code",
   "execution_count": 2,
   "metadata": {},
   "outputs": [],
   "source": [
    "import logging\n",
    "from botocore.exceptions import ClientError\n",
    "\n",
    "\n",
    "def upload_file(file_name, bucket, object_name=None):\n",
    "    \"\"\"Upload a file to an S3 bucket\n",
    "\n",
    "    :param file_name: File to upload\n",
    "    :param bucket: Bucket to upload to\n",
    "    :param object_name: S3 object name. If not specified then file_name is used\n",
    "    :return: True if file was uploaded, else False\n",
    "    \"\"\"\n",
    "\n",
    "    # If S3 object_name was not specified, use file_name\n",
    "    if object_name is None:\n",
    "        object_name = os.path.basename(file_name)\n",
    "\n",
    "    # Upload the file\n",
    "    s3_client = boto3.client('s3',\n",
    "                             endpoint_url=config['endpoint_url'],\n",
    "                             region_name=config['region_name'],\n",
    "                             aws_access_key_id=config['aws_access_key_id'], \n",
    "                             aws_secret_access_key=config['aws_secret_access_key'])\n",
    "    try:\n",
    "        response = s3_client.upload_file(file_name, bucket, object_name)\n",
    "    except ClientError as e:\n",
    "        logging.error(e)\n",
    "        return False\n",
    "    return True"
   ]
  },
  {
   "cell_type": "code",
   "execution_count": 10,
   "metadata": {},
   "outputs": [
    {
     "name": "stdout",
     "output_type": "stream",
     "text": [
      "TMA05/NK_LOVLY_TMA5_C07R1_CD163-001.svs\n",
      "TMA05/NK_LOVLY_TMA5_C01R2_PDL1.svs\n",
      "TMA05/NK_LOVLY_TMA5_C03R1_CD3.svs\n",
      "TMA05/NK_LOVLY_TMA5_C03R2_CD45.svs\n",
      "TMA05/NK_LOVLY_TMA5_C02R1_HLAII.svs\n",
      "TMA05/NK_LOVLY_TMA5_C02R3_EOMES.svs\n",
      "TMA05/NK_LOVLY_TMA5_C01R3_HEM.svs\n",
      "TMA05/NK_LOVLY_TMA5_C08R2_EOMES.svs\n",
      "TMA05/NK_LOVLY_TMA5_C12R2_HEM.xml\n",
      "TMA05/NK_LOVLY_TMA5_C06R2_CD11B.svs\n",
      "TMA05/NK_LOVLY_TMA5_C05R1_GRZB.svs\n",
      "TMA05/NK_LOVLY_TMA5_C04R1_CD8.svs\n",
      "TMA05/NK_LOVLY_TMA5_C08R1_FOXP3-001.svs\n",
      "TMA05/NK_LOVLY_TMA5_C05R2_CD68.svs\n",
      "TMA05/NK_LOVLY_TMA5_C12R1_PANCK.svs\n",
      "TMA05/NK_LOVLY_TMA5_C12R2_HEM.svs\n",
      "TMA05/NK_LOVLY_TMA5_C04R2_CD20.svs\n",
      "TMA05/NK_LOVLY_TMA5_C06R1_CD66B.svs\n",
      "TMA05/NK_LOVLY_TMA5_C02R2_DCLAMP.svs\n",
      "TMA05/NK_LOVLY_TMA5_C09R1_KI67-001.svs\n",
      "TMA05/NK_LOVLY_TMA5_C07R2_CD11C.svs\n",
      "Time to complete upload:  0:00:50.335821\n"
     ]
    }
   ],
   "source": [
    "ROOTDIR = '/mnt/monica/quaranta/Data/Image_Processing/Lovly-Coussens'\n",
    "IMGDIR = 'TMA05'\n",
    "bucket_name = \"lovly-coussens\"\n",
    "\n",
    "start = time.time()\n",
    "for file in os.listdir(f'{ROOTDIR}/{IMGDIR}'):\n",
    "    if file == '.DS_Store': continue\n",
    "    object_name = f'{IMGDIR}/{file}'\n",
    "    print(object_name)\n",
    "    file_path = f'{ROOTDIR}/{IMGDIR}/{file}'\n",
    "    response = upload_file(file_path, bucket_name, object_name)\n",
    "\n",
    "end = time.time()\n",
    "print(\"Time to complete upload: \", str(timedelta(seconds=end-start)))"
   ]
  },
  {
   "cell_type": "code",
   "execution_count": 12,
   "metadata": {},
   "outputs": [],
   "source": [
    "file = f'{ROOTDIR}/VB_Lovly_TMA2022.pptx'\n",
    "bucket_name = \"lovly-coussens\"\n",
    "object_name = 'VB_Lovly_TMA2022.pptx'\n",
    "response = upload_file(file, bucket_name, object_name)"
   ]
  },
  {
   "cell_type": "markdown",
   "metadata": {},
   "source": [
    "## File Download"
   ]
  },
  {
   "cell_type": "code",
   "execution_count": null,
   "metadata": {},
   "outputs": [],
   "source": [
    "destination = '/home/monica/scratch/test_download.tiff'\n",
    "bucket_name = \"drt-wb1\"\n",
    "# path of file to download\n",
    "image = 'image-data/cytation_121420_subset/201216162136_Experiment4/!PLATE_BARCODE!_201216162136/C4_02_1_1_RFP_001.tif'\n",
    "s3_client = boto3.client('s3',\n",
    "                         endpoint_url=config['endpoint_url'],\n",
    "                         region_name=config['region_name'],\n",
    "                         aws_access_key_id=config['aws_access_key_id'], \n",
    "                         aws_secret_access_key=config['aws_secret_access_key'])\n",
    "\n",
    "s3_client.download_file(bucket_name, image, destination)"
   ]
  }
 ],
 "metadata": {
  "kernelspec": {
   "display_name": "wasabi",
   "language": "python",
   "name": "wasabi"
  },
  "language_info": {
   "codemirror_mode": {
    "name": "ipython",
    "version": 3
   },
   "file_extension": ".py",
   "mimetype": "text/x-python",
   "name": "python",
   "nbconvert_exporter": "python",
   "pygments_lexer": "ipython3",
   "version": "3.9.6"
  }
 },
 "nbformat": 4,
 "nbformat_minor": 4
}
